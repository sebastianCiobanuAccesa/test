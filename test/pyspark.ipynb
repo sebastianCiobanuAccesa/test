{
 "cells": [
  {
   "cell_type": "markdown",
   "id": "b02daa76-5f2d-422c-9956-eab06ec5ddc8",
   "metadata": {},
   "source": [
    "## PySpark example"
   ]
  },
  {
   "cell_type": "code",
   "execution_count": 1,
   "id": "4e413b55-da8c-4fbc-9492-2ec17a6d3f7a",
   "metadata": {},
   "outputs": [
    {
     "name": "stdout",
     "output_type": "stream",
     "text": [
      "+---+-------------------+------------+--------------------------------------+-------------------------------+-----------+------------+--------------------------+\n",
      "| No|X1 transaction date|X2 house age|X3 distance to the nearest MRT station|X4 number of convenience stores|X5 latitude|X6 longitude|Y house price of unit area|\n",
      "+---+-------------------+------------+--------------------------------------+-------------------------------+-----------+------------+--------------------------+\n",
      "|  1|           2012.917|        32.0|                              84.87882|                             10|   24.98298|   121.54024|                      37.9|\n",
      "|  2|           2012.917|        19.5|                              306.5947|                              9|   24.98034|   121.53951|                      42.2|\n",
      "|  3|           2013.583|        13.3|                              561.9845|                              5|   24.98746|   121.54391|                      47.3|\n",
      "|  4|             2013.5|        13.3|                              561.9845|                              5|   24.98746|   121.54391|                      54.8|\n",
      "|  5|           2012.833|         5.0|                              390.5684|                              5|   24.97937|   121.54245|                      43.1|\n",
      "|  6|           2012.667|         7.1|                               2175.03|                              3|   24.96305|   121.51254|                      32.1|\n",
      "|  7|           2012.667|        34.5|                              623.4731|                              7|   24.97933|   121.53642|                      40.3|\n",
      "|  8|           2013.417|        20.3|                              287.6025|                              6|   24.98042|   121.54228|                      46.7|\n",
      "|  9|             2013.5|        31.7|                              5512.038|                              1|   24.95095|   121.48458|                      18.8|\n",
      "| 10|           2013.417|        17.9|                               1783.18|                              3|   24.96731|   121.51486|                      22.1|\n",
      "+---+-------------------+------------+--------------------------------------+-------------------------------+-----------+------------+--------------------------+\n",
      "only showing top 10 rows\n",
      "\n"
     ]
    }
   ],
   "source": [
    "# after: https://www.geeksforgeeks.org/pyspark-linear-regression-using-apache-mllib/\n",
    "\n",
    "import pyspark\n",
    "from pyspark.sql import SparkSession\n",
    "\n",
    "spark=SparkSession.builder.appName('housing_price_model').getOrCreate()\n",
    "\n",
    "df=spark.read.csv('Real estate.csv',inferSchema=True,header=True)\n",
    "df.show(10)"
   ]
  },
  {
   "cell_type": "code",
   "execution_count": 2,
   "id": "d86c5a24-4533-44b8-87cf-3270cbb6a190",
   "metadata": {},
   "outputs": [
    {
     "name": "stdout",
     "output_type": "stream",
     "text": [
      "+--------------------+--------------------------+\n",
      "|            features|Y house price of unit area|\n",
      "+--------------------+--------------------------+\n",
      "|[2012.917,32.0,84...|                      37.9|\n",
      "|[2012.917,19.5,30...|                      42.2|\n",
      "|[2013.583,13.3,56...|                      47.3|\n",
      "|[2013.5,13.3,561....|                      54.8|\n",
      "|[2012.833,5.0,390...|                      43.1|\n",
      "+--------------------+--------------------------+\n",
      "only showing top 5 rows\n",
      "\n"
     ]
    }
   ],
   "source": [
    "from pyspark.ml.linalg import Vectors\n",
    "from pyspark.ml.feature import VectorAssembler\n",
    "\n",
    "assembler=VectorAssembler(inputCols=['X1 transaction date',\n",
    "                                     'X2 house age',\n",
    "                                     'X3 distance to the nearest MRT station',\n",
    "                                     'X4 number of convenience stores',\n",
    "                                     'X5 latitude',\n",
    "                                     'X6 longitude'],outputCol='features')\n",
    "output=assembler.transform(df)\n",
    "output.select('features','Y house price of unit area').show(5)"
   ]
  },
  {
   "cell_type": "code",
   "execution_count": 3,
   "id": "33eed458-38c0-4f08-96d3-1f1d0ab51a25",
   "metadata": {},
   "outputs": [
    {
     "name": "stdout",
     "output_type": "stream",
     "text": [
      "+-------+--------------------------+\n",
      "|summary|Y house price of unit area|\n",
      "+-------+--------------------------+\n",
      "|  count|                       291|\n",
      "|   mean|         38.48762886597939|\n",
      "| stddev|        13.644649761608282|\n",
      "|    min|                      11.6|\n",
      "|    max|                     117.5|\n",
      "+-------+--------------------------+\n",
      "\n",
      "+-------+--------------------------+\n",
      "|summary|Y house price of unit area|\n",
      "+-------+--------------------------+\n",
      "|  count|                       123|\n",
      "|   mean|         36.77967479674797|\n",
      "| stddev|        13.494989715978283|\n",
      "|    min|                       7.6|\n",
      "|    max|                      78.0|\n",
      "+-------+--------------------------+\n",
      "\n"
     ]
    }
   ],
   "source": [
    "final_data=output.select('features','Y house price of unit area')\n",
    "#splitting data into train and test\n",
    "train_data,test_data=final_data.randomSplit([0.7,0.3])\n",
    "\n",
    "train_data.describe().show()\n",
    "test_data.describe().show()"
   ]
  },
  {
   "cell_type": "code",
   "execution_count": 4,
   "id": "2e03552f-b6d8-4b7e-9a91-9fb447c213ff",
   "metadata": {},
   "outputs": [
    {
     "name": "stdout",
     "output_type": "stream",
     "text": [
      "Mean Squared Error : 73.20686458681352\n"
     ]
    }
   ],
   "source": [
    "from pyspark.ml.regression import LinearRegression\n",
    "model = LinearRegression(maxIter=5000, featuresCol='features', labelCol='Y house price of unit area', \n",
    "                         standardization=False)\n",
    "\n",
    "trained_model = model.fit(train_data)\n",
    "\n",
    "results = trained_model.evaluate(test_data)\n",
    "print('Mean Squared Error :',results.meanSquaredError)"
   ]
  },
  {
   "cell_type": "code",
   "execution_count": 5,
   "id": "ae99af72-5a7b-414a-877c-f3b9cac68f53",
   "metadata": {},
   "outputs": [
    {
     "name": "stdout",
     "output_type": "stream",
     "text": [
      "+--------------------+\n",
      "|            features|\n",
      "+--------------------+\n",
      "|[2012.667,0.0,185...|\n",
      "|[2012.667,1.5,23....|\n",
      "|[2012.667,3.1,383...|\n",
      "|[2012.667,12.4,17...|\n",
      "|[2012.667,15.5,81...|\n",
      "+--------------------+\n",
      "only showing top 5 rows\n",
      "\n",
      "+--------------------+------------------+\n",
      "|            features|        prediction|\n",
      "+--------------------+------------------+\n",
      "|[2012.667,0.0,185...|39.789802555940696|\n",
      "|[2012.667,1.5,23....| 46.08676524455586|\n",
      "|[2012.667,3.1,383...| 44.89126791759554|\n",
      "|[2012.667,12.4,17...| 30.39431888310719|\n",
      "|[2012.667,15.5,81...|38.926020330080064|\n",
      "|[2012.667,15.6,28...| 42.97455856810484|\n",
      "|[2012.667,29.4,45...| 9.425031192917231|\n",
      "|[2012.667,30.4,17...|26.611945166983787|\n",
      "|[2012.667,33.4,18...|37.257660160896194|\n",
      "|[2012.75,13.5,419...| 11.55182338708255|\n",
      "|[2012.75,14.1,261...|21.835341941819934|\n",
      "|[2012.75,29.3,529...| 42.20486882581463|\n",
      "|[2012.75,34.4,512...|40.620087025712564|\n",
      "|[2012.75,37.9,488...| 32.33556090537604|\n",
      "|[2012.833,0.0,185...| 40.89586924658943|\n",
      "|[2012.833,0.0,274...| 42.22793261213883|\n",
      "|[2012.833,10.3,21...|  40.2335402208264|\n",
      "|[2012.833,13.9,45...|12.415064640728815|\n",
      "|[2012.833,15.7,81...| 39.98999018982431|\n",
      "|[2012.833,18.0,37...|47.038579633808695|\n",
      "+--------------------+------------------+\n",
      "only showing top 20 rows\n",
      "\n"
     ]
    }
   ],
   "source": [
    "unlabeled_data = test_data.select('features')\n",
    "unlabeled_data.show(5)\n",
    "\n",
    "predictions = trained_model.transform(unlabeled_data)\n",
    "predictions.show()"
   ]
  },
  {
   "cell_type": "code",
   "execution_count": 6,
   "id": "c5830b60-5bd3-460d-abac-65edcfe9533a",
   "metadata": {},
   "outputs": [
    {
     "name": "stdout",
     "output_type": "stream",
     "text": [
      "+--------------------+-------------------+\n",
      "|            features|         prediction|\n",
      "+--------------------+-------------------+\n",
      "|[1.0,1.0,1.0,1.0,...|-17099.237975643595|\n",
      "|[100.0,1.0,1.0,1....|-16439.595792668075|\n",
      "+--------------------+-------------------+\n",
      "\n"
     ]
    }
   ],
   "source": [
    "predictions = trained_model.transform(assembler.transform(spark.createDataFrame([\n",
    "    [1.0,1.0,1.0,1.0,1.0,1.0],\n",
    "    [100.0,1.0,1.0,1.0,1.0,1.0]\n",
    "], ['X1 transaction date',\n",
    "    'X2 house age',\n",
    "    'X3 distance to the nearest MRT station',\n",
    "    'X4 number of convenience stores',\n",
    "    'X5 latitude',\n",
    "    'X6 longitude'])\n",
    ").select(\"features\"))\n",
    "predictions.show()"
   ]
  }
 ],
 "metadata": {
  "kernelspec": {
   "display_name": "Python 3 (ipykernel)",
   "language": "python",
   "name": "python3"
  },
  "language_info": {
   "codemirror_mode": {
    "name": "ipython",
    "version": 3
   },
   "file_extension": ".py",
   "mimetype": "text/x-python",
   "name": "python",
   "nbconvert_exporter": "python",
   "pygments_lexer": "ipython3",
   "version": "3.10.5"
  }
 },
 "nbformat": 4,
 "nbformat_minor": 5
}
