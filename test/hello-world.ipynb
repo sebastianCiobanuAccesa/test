{
 "cells": [
  {
   "cell_type": "code",
   "execution_count": 1,
   "id": "a65ab044-6137-4ab6-9c9e-e4aed31fde77",
   "metadata": {},
   "outputs": [
    {
     "data": {
      "text/plain": [
       "2"
      ]
     },
     "execution_count": 1,
     "metadata": {},
     "output_type": "execute_result"
    }
   ],
   "source": [
    "1+1"
   ]
  },
  {
   "cell_type": "code",
   "execution_count": 2,
   "id": "ff02bca4-1ee3-47b1-80b4-3e99ddee29e3",
   "metadata": {},
   "outputs": [
    {
     "name": "stdout",
     "output_type": "stream",
     "text": [
      "Hello world\n"
     ]
    }
   ],
   "source": [
    "print(\"Hello world\")"
   ]
  },
  {
   "cell_type": "code",
   "execution_count": 3,
   "id": "d88cdf86-0eff-49bc-9ef3-e8f7d5c80ac7",
   "metadata": {},
   "outputs": [
    {
     "data": {
      "text/plain": [
       "'Hello'"
      ]
     },
     "execution_count": 3,
     "metadata": {},
     "output_type": "execute_result"
    }
   ],
   "source": [
    "\"Hello\""
   ]
  },
  {
   "cell_type": "raw",
   "id": "c385553d-d933-442c-83fc-705c2eade3d8",
   "metadata": {},
   "source": [
    "Text cell"
   ]
  },
  {
   "cell_type": "markdown",
   "id": "bddff31a-c99d-4b53-8312-77313aab0f3e",
   "metadata": {},
   "source": [
    "Text cell (Markdown)\n",
    "\n",
    "**text**"
   ]
  },
  {
   "cell_type": "code",
   "execution_count": null,
   "id": "f9421b61-8aaa-466f-a280-c8a74d58ee17",
   "metadata": {},
   "outputs": [],
   "source": []
  },
  {
   "cell_type": "code",
   "execution_count": 4,
   "id": "8490ba53-b9d9-4ae3-9e46-ffcd6d0a2313",
   "metadata": {},
   "outputs": [
    {
     "data": {
      "text/plain": [
       "4"
      ]
     },
     "execution_count": 4,
     "metadata": {},
     "output_type": "execute_result"
    }
   ],
   "source": [
    "def f(x,y):\n",
    "    return x+y\n",
    "\n",
    "f(1,3)"
   ]
  },
  {
   "cell_type": "code",
   "execution_count": null,
   "id": "1c7c4c1e-d141-4933-b46e-75108bd4927d",
   "metadata": {},
   "outputs": [],
   "source": []
  }
 ],
 "metadata": {
  "kernelspec": {
   "display_name": "Python 3 (ipykernel)",
   "language": "python",
   "name": "python3"
  },
  "language_info": {
   "codemirror_mode": {
    "name": "ipython",
    "version": 3
   },
   "file_extension": ".py",
   "mimetype": "text/x-python",
   "name": "python",
   "nbconvert_exporter": "python",
   "pygments_lexer": "ipython3",
   "version": "3.10.5"
  }
 },
 "nbformat": 4,
 "nbformat_minor": 5
}
